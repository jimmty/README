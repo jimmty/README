{
 "cells": [
  {
   "cell_type": "markdown",
   "id": "a41d96b8-cf75-474d-a8db-af8f6ea75860",
   "metadata": {},
   "source": [
    "Data Science Tools and Ecosystem"
   ]
  },
  {
   "cell_type": "markdown",
   "id": "1ad4d70a-5493-48f6-891e-fc0012978a2b",
   "metadata": {},
   "source": [
    "In this notebook, Data Science Tools and Ecosystem are summarized."
   ]
  },
  {
   "cell_type": "markdown",
   "id": "48d77f09-8987-4aa4-8956-c4bbd224da3c",
   "metadata": {},
   "source": [
    "<strong>Objectives:<strong>"
   ]
  },
  {
   "cell_type": "markdown",
   "id": "6277b3cf-b235-48a6-a7bb-cf748a6d7316",
   "metadata": {
    "tags": []
   },
   "source": [
    "* Python\n",
    "* R\n",
    "* SQL\n",
    "* Java\n",
    "* Julio"
   ]
  },
  {
   "cell_type": "markdown",
   "id": "5e75b600-1c83-4188-89b2-8b27ed516845",
   "metadata": {
    "tags": []
   },
   "source": [
    "Some of the popular languages that Data Scientists use are:"
   ]
  },
  {
   "cell_type": "markdown",
   "id": "2af6b63e-8c02-4ce4-86bb-64fd2dc3a2bd",
   "metadata": {},
   "source": [
    "* Python\n",
    "* R\n",
    "* SQL"
   ]
  },
  {
   "cell_type": "markdown",
   "id": "46ef12de-e185-4dc4-8fe1-04001e07ca50",
   "metadata": {},
   "source": [
    "Some of the commonly used libraries used by Data Scientists include:"
   ]
  },
  {
   "cell_type": "markdown",
   "id": "02edc1cd-7d9a-4b75-85c6-849d910159ec",
   "metadata": {},
   "source": [
    "* Numpy\n",
    "* Pandas\n",
    "* Scikit-Learn"
   ]
  },
  {
   "cell_type": "markdown",
   "id": "10523fb7-d5ee-47b6-899e-4a2f1528e732",
   "metadata": {
    "tags": []
   },
   "source": [
    "|Data Science Tools|\n",
    "|:---------------:|\n",
    "|Apache Spark| \n",
    "|TensorFlow|\n",
    "|Apache Hadoop|"
   ]
  },
  {
   "cell_type": "markdown",
   "id": "f23632da-df39-4d1d-b818-64c10bb5844a",
   "metadata": {},
   "source": [
    "<h3> Below are a few examples of evaluating arithmetic expressions in Python </h3>"
   ]
  },
  {
   "cell_type": "markdown",
   "id": "533a7f27-6a86-4027-a6c1-a31a0ac79c08",
   "metadata": {},
   "source": [
    " This a simple arithmetic expression to mutiply then add integers"
   ]
  },
  {
   "cell_type": "code",
   "execution_count": 25,
   "id": "6f54f0ee-8179-40bf-be4d-222409702044",
   "metadata": {
    "tags": []
   },
   "outputs": [
    {
     "data": {
      "text/plain": [
       "17"
      ]
     },
     "execution_count": 25,
     "metadata": {},
     "output_type": "execute_result"
    }
   ],
   "source": [
    "(3*4)+5"
   ]
  },
  {
   "cell_type": "markdown",
   "id": "8fe4775a-5661-420a-abec-e78a1ef3cccc",
   "metadata": {},
   "source": [
    "This will convert 200 minutes to hours by diving by 60"
   ]
  },
  {
   "cell_type": "code",
   "execution_count": 29,
   "id": "c762bd5c-c295-43dc-a299-31ae552c7471",
   "metadata": {
    "tags": []
   },
   "outputs": [
    {
     "data": {
      "text/plain": [
       "3.3333333333333335"
      ]
     },
     "execution_count": 29,
     "metadata": {},
     "output_type": "execute_result"
    }
   ],
   "source": [
    "200/60"
   ]
  },
  {
   "cell_type": "markdown",
   "id": "b0d59a42-b53a-4b5e-9e2d-36cdb6bd1724",
   "metadata": {
    "tags": []
   },
   "source": [
    "<H2>Author<H2>"
   ]
  },
  {
   "cell_type": "markdown",
   "id": "fe1ad69e-727f-4620-b059-e3035ef772e5",
   "metadata": {},
   "source": [
    "Jimmy Warthon"
   ]
  }
 ],
 "metadata": {
  "kernelspec": {
   "display_name": "Python 3 (ipykernel)",
   "language": "python",
   "name": "python3"
  },
  "language_info": {
   "codemirror_mode": {
    "name": "ipython",
    "version": 3
   },
   "file_extension": ".py",
   "mimetype": "text/x-python",
   "name": "python",
   "nbconvert_exporter": "python",
   "pygments_lexer": "ipython3",
   "version": "3.11.5"
  }
 },
 "nbformat": 4,
 "nbformat_minor": 5
}
