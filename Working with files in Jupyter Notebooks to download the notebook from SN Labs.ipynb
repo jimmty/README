{
 "cells": [
  {
   "cell_type": "markdown",
   "id": "a41d96b8-cf75-474d-a8db-af8f6ea75860",
   "metadata": {},
   "source": [
    "<H1>Data Science Tools and Ecosystem<H1>"
   ]
  },
  {
   "cell_type": "markdown",
   "id": "cb33ed61-feda-4ffe-bad0-4d8484d42a4f",
   "metadata": {},
   "source": [
    "In this notebook, Data Science Tools and Ecosystem are summarized."
   ]
  },
  {
   "cell_type": "markdown",
   "id": "4a7efd86-583a-4010-a176-22ec30d7dce7",
   "metadata": {},
   "source": [
    "<strong>Objectives:<strong>"
   ]
  },
  {
   "cell_type": "markdown",
   "id": "cc46ebe4-e4d5-4d94-aca3-0bfbb7062e69",
   "metadata": {},
   "source": [
    "* Python\n",
    "* R\n",
    "* SQL\n",
    "* Java\n",
    "* Julia"
   ]
  },
  {
   "cell_type": "markdown",
   "id": "ff478e33-7cc6-484e-9ebd-511fb427f152",
   "metadata": {},
   "source": [
    "Some of the popular languages that Data Scientists use are:"
   ]
  },
  {
   "cell_type": "markdown",
   "id": "984d1d69-463c-4c31-8a3d-4b6009bb9ec7",
   "metadata": {},
   "source": [
    "1. Python\n",
    "2. R\n",
    "3. SQL"
   ]
  },
  {
   "cell_type": "markdown",
   "id": "c57a910e-d356-4d36-ac3a-f39e8f12f13b",
   "metadata": {},
   "source": [
    "Some of the commonly used libraries used by Data Scientists include:"
   ]
  },
  {
   "cell_type": "markdown",
   "id": "85104376-4d34-482b-aa94-2f574e3b6c3a",
   "metadata": {
    "tags": []
   },
   "source": [
    "1. Numpy\n",
    "2. Pandas\n",
    "3. Scikit-Learn"
   ]
  },
  {
   "cell_type": "markdown",
   "id": "d85578e8-8fa1-4eb8-884c-d52e37c1c85b",
   "metadata": {
    "tags": []
   },
   "source": [
    "|Data Science Tools|\n",
    "|:---------------:|\n",
    "|Apache Spark| \n",
    "|TensorFlow|\n",
    "|Apache Hadoop|"
   ]
  },
  {
   "cell_type": "markdown",
   "id": "61162458-df58-4743-90c3-f9c3560634b9",
   "metadata": {},
   "source": [
    "<h3> Below are a few examples of evaluating arithmetic expressions in Python </h3>"
   ]
  },
  {
   "cell_type": "markdown",
   "id": "8d75ba65-756e-47e5-8c71-a641e3d00d85",
   "metadata": {},
   "source": [
    "This a simple arithmetic expression to mutiply then add integers"
   ]
  },
  {
   "cell_type": "code",
   "execution_count": 61,
   "id": "c416dc20-49ea-471d-832b-fb701d63885c",
   "metadata": {
    "tags": []
   },
   "outputs": [
    {
     "data": {
      "text/plain": [
       "17"
      ]
     },
     "execution_count": 61,
     "metadata": {},
     "output_type": "execute_result"
    }
   ],
   "source": [
    "(3*4)+5"
   ]
  },
  {
   "cell_type": "markdown",
   "id": "a49b7c71-824d-458e-b36f-4acc105aab85",
   "metadata": {},
   "source": [
    "This will convert 200 minutes to hours by diving by 60"
   ]
  },
  {
   "cell_type": "code",
   "execution_count": 64,
   "id": "b235c20c-3976-4388-8e68-bcc18c62963c",
   "metadata": {
    "tags": []
   },
   "outputs": [
    {
     "data": {
      "text/plain": [
       "3.3333333333333335"
      ]
     },
     "execution_count": 64,
     "metadata": {},
     "output_type": "execute_result"
    }
   ],
   "source": [
    "200/60"
   ]
  },
  {
   "cell_type": "markdown",
   "id": "db59890a-cce8-4a20-9fc6-4839c9ed4383",
   "metadata": {},
   "source": [
    "<H2>Author<H2>"
   ]
  },
  {
   "cell_type": "code",
   "execution_count": null,
   "id": "3525ffbb-540d-4568-9675-47a7b3f4f11c",
   "metadata": {},
   "outputs": [],
   "source": [
    "Jimmy Warthon"
   ]
  }
 ],
 "metadata": {
  "kernelspec": {
   "display_name": "Python 3 (ipykernel)",
   "language": "python",
   "name": "python3"
  },
  "language_info": {
   "codemirror_mode": {
    "name": "ipython",
    "version": 3
   },
   "file_extension": ".py",
   "mimetype": "text/x-python",
   "name": "python",
   "nbconvert_exporter": "python",
   "pygments_lexer": "ipython3",
   "version": "3.11.5"
  }
 },
 "nbformat": 4,
 "nbformat_minor": 5
}
